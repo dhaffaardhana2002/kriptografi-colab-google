{
  "cells": [
    {
      "cell_type": "markdown",
      "metadata": {
        "id": "view-in-github",
        "colab_type": "text"
      },
      "source": [
        "<a href=\"https://colab.research.google.com/github/dhaffaardhana2002/kriptografi-colab-google/blob/master/Steganografi.ipynb\" target=\"_parent\"><img src=\"https://colab.research.google.com/assets/colab-badge.svg\" alt=\"Open In Colab\"/></a>"
      ]
    },
    {
      "cell_type": "markdown",
      "metadata": {
        "id": "-k_hDNvlZyFt"
      },
      "source": [
        "# Steganografi"
      ]
    },
    {
      "cell_type": "code",
      "execution_count": null,
      "metadata": {
        "id": "ho_IEZKC0xnJ"
      },
      "outputs": [],
      "source": [
        "!pip install stegano"
      ]
    },
    {
      "cell_type": "code",
      "execution_count": null,
      "metadata": {
        "id": "DWvRaAm_0g9B"
      },
      "outputs": [],
      "source": [
        "# Uncomment the following line and run it if stegano is not installed\n",
        "# !pip install stegano\n",
        "\n",
        "# Import necessary modules\n",
        "from PIL import Image\n",
        "from stegano import lsb\n",
        "from google.colab import files\n",
        "\n",
        "# Function to hide text in an image\n",
        "def hide_text_in_image(input_image_path, output_image_path, secret_text):\n",
        "    # Open the image\n",
        "    img = Image.open(input_image_path)\n",
        "\n",
        "    # Hide the text in the image\n",
        "    secret_img = lsb.hide(img, secret_text)\n",
        "\n",
        "    # Save the image with the hidden text\n",
        "    secret_img.save(output_image_path)\n",
        "\n",
        "# Function to extract text from an image\n",
        "def extract_text_from_image(input_image_path):\n",
        "    # Open the image with the hidden text\n",
        "    secret_img = Image.open(input_image_path)\n",
        "\n",
        "    # Extract the hidden text\n",
        "    extracted_text = lsb.reveal(secret_img)\n",
        "\n",
        "    return extracted_text\n",
        "\n",
        "# Upload an image file\n",
        "uploaded = files.upload()\n",
        "\n",
        "# Get the file name\n",
        "input_image_path = list(uploaded.keys())[0]\n",
        "\n",
        "# Output image path\n",
        "output_image_path = \"ini_tidak_rahasia_kok.png\"\n",
        "\n",
        "# Check if the image has hidden text\n",
        "try:\n",
        "    extracted_text = extract_text_from_image(input_image_path)\n",
        "    print(\"Hidden Text Found:\", extracted_text)\n",
        "\n",
        "except Exception as e:\n",
        "    print(\"No hidden text found in the image.\")\n",
        "\n",
        "    # If no hidden text found, allow the user to input a new message\n",
        "    new_secret_text = input(\"Enter the new secret message: \")\n",
        "\n",
        "    # Hide text in the input image with the new message\n",
        "    hide_text_in_image(input_image_path, output_image_path, new_secret_text)\n",
        "\n",
        "    print(\"New message hidden in the image.\")\n",
        "\n",
        "    # Automatically download the output image\n",
        "    files.download(output_image_path)\n"
      ]
    }
  ],
  "metadata": {
    "colab": {
      "provenance": [],
      "authorship_tag": "ABX9TyOAYTUVlWcOqMDux/iWSxES",
      "include_colab_link": true
    },
    "kernelspec": {
      "display_name": "Python 3",
      "name": "python3"
    },
    "language_info": {
      "name": "python"
    }
  },
  "nbformat": 4,
  "nbformat_minor": 0
}