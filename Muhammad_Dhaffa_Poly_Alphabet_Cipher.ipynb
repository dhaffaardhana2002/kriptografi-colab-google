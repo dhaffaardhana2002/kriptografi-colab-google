{
  "nbformat": 4,
  "nbformat_minor": 0,
  "metadata": {
    "colab": {
      "provenance": [],
      "authorship_tag": "ABX9TyNCk2M+x/IMd8tKcWyr3+/j",
      "include_colab_link": true
    },
    "kernelspec": {
      "name": "python3",
      "display_name": "Python 3"
    },
    "language_info": {
      "name": "python"
    }
  },
  "cells": [
    {
      "cell_type": "markdown",
      "metadata": {
        "id": "view-in-github",
        "colab_type": "text"
      },
      "source": [
        "<a href=\"https://colab.research.google.com/github/dhaffaardhana2002/kriptografi-colab-google/blob/master/Muhammad_Dhaffa_Poly_Alphabet_Cipher.ipynb\" target=\"_parent\"><img src=\"https://colab.research.google.com/assets/colab-badge.svg\" alt=\"Open In Colab\"/></a>"
      ]
    },
    {
      "cell_type": "code",
      "execution_count": 9,
      "metadata": {
        "id": "17tSiCT9Pdwv",
        "colab": {
          "base_uri": "https://localhost:8080/"
        },
        "outputId": "5cf2d169-ecfd-4e34-919e-5fb3fb1e054e"
      },
      "outputs": [
        {
          "output_type": "stream",
          "name": "stdout",
          "text": [
            "Plaintext : PELITABANGSA\n",
            "Kata kunci : DHAFFA\n",
            "Ciphertext : SLLNYAEHNLXA\n"
          ]
        }
      ],
      "source": [
        "def generateKey(string, key):\n",
        "\tkey = list(key)\n",
        "\tif len(string) == len(key):\n",
        "\t\treturn(key)\n",
        "\telse:\n",
        "\t\tfor i in range(len(string) -\n",
        "\t\t\t\t\tlen(key)):\n",
        "\t\t\tkey.append(key[i % len(key)])\n",
        "\treturn(\"\" . join(key))\n",
        "\n",
        "def cipherText(string, key):\n",
        "\tcipher_text = []\n",
        "\tfor i in range(len(string)):\n",
        "\t\tx = (ord(string[i]) +\n",
        "\t\t\tord(key[i])) % 26\n",
        "\t\tx += ord('A')\n",
        "\t\tcipher_text.append(chr(x))\n",
        "\treturn(\"\" . join(cipher_text))\n",
        "\n",
        "def originalText(cipher_text, key):\n",
        "\torig_text = []\n",
        "\tfor i in range(len(cipher_text)):\n",
        "\t\tx = (ord(cipher_text[i]) -\n",
        "\t\t\tord(key[i]) + 26) % 26\n",
        "\t\tx += ord('A')\n",
        "\t\torig_text.append(chr(x))\n",
        "\treturn(\"\" . join(orig_text))\n",
        "\n",
        "if __name__ == \"__main__\":\n",
        "\tstring = \"PELITABANGSA\"\n",
        "\tkeyword = \"DHAFFA\"\n",
        "\tkey = generateKey(string, keyword)\n",
        "\tcipher_text = cipherText(string,key)\n",
        "\tprint(\"Plaintext :\", originalText(cipher_text, key))\n",
        "\tprint(\"Kata kunci :\", keyword)\n",
        "\tprint(\"Ciphertext :\", cipher_text)\n"
      ]
    }
  ]
}