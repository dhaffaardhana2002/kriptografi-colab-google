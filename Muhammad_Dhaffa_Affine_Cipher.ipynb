{
  "nbformat": 4,
  "nbformat_minor": 0,
  "metadata": {
    "colab": {
      "provenance": [],
      "authorship_tag": "ABX9TyPevSMRRkFNIKP7q8MHECdV",
      "include_colab_link": true
    },
    "kernelspec": {
      "name": "python3",
      "display_name": "Python 3"
    },
    "language_info": {
      "name": "python"
    }
  },
  "cells": [
    {
      "cell_type": "markdown",
      "metadata": {
        "id": "view-in-github",
        "colab_type": "text"
      },
      "source": [
        "<a href=\"https://colab.research.google.com/github/dhaffaardhana2002/kriptografi-colab-google/blob/master/Muhammad_Dhaffa_Affine_Cipher.ipynb\" target=\"_parent\"><img src=\"https://colab.research.google.com/assets/colab-badge.svg\" alt=\"Open In Colab\"/></a>"
      ]
    },
    {
      "cell_type": "markdown",
      "source": [
        "#**Affine Cipher**"
      ],
      "metadata": {
        "id": "Hw3BP4bbLQRN"
      }
    },
    {
      "cell_type": "code",
      "execution_count": null,
      "metadata": {
        "colab": {
          "base_uri": "https://localhost:8080/"
        },
        "id": "eulKzYk1LN3C",
        "outputId": "bce02b1c-c191-4749-fe06-55e268daef2d"
      },
      "outputs": [
        {
          "output_type": "stream",
          "name": "stdout",
          "text": [
            "Plain Text: Apa saja boleh \n",
            "Encrypted Text: UPUOURULYZKJ\n",
            "Decrypted Text: APASAJABOLEH\n"
          ]
        }
      ],
      "source": [
        "# Implementation of Affine Cipher in Python\n",
        "\n",
        "# Extended Euclidean Algorithm for finding modular inverse\n",
        "# eg: modinv(7, 26) = 15\n",
        "def egcd(a, b):\n",
        "\tx,y, u,v = 0,1, 1,0\n",
        "\twhile a != 0:\n",
        "\t\tq, r = b//a, b%a\n",
        "\t\tm, n = x-u*q, y-v*q\n",
        "\t\tb,a, x,y, u,v = a,r, u,v, m,n\n",
        "\tgcd = b\n",
        "\treturn gcd, x, y\n",
        "\n",
        "def modinv(a, m):\n",
        "\tgcd, x, y = egcd(a, m)\n",
        "\tif gcd != 1:\n",
        "\t\treturn None # modular inverse does not exist\n",
        "\telse:\n",
        "\t\treturn x % m\n",
        "\n",
        "\n",
        "# affine cipher encryption function\n",
        "# returns the cipher text\n",
        "def affine_encrypt(text, key):\n",
        "\t'''\n",
        "\tC = (a*P + b) % 26\n",
        "\t'''\n",
        "\treturn ''.join([ chr((( key[0]*(ord(t) - ord('A')) + key[1] ) % 26)\n",
        "\t\t\t\t+ ord('A')) for t in text.upper().replace(' ', '') ])\n",
        "\n",
        "\n",
        "# affine cipher decryption function\n",
        "# returns original text\n",
        "def affine_decrypt(cipher, key):\n",
        "\t'''\n",
        "\tP = (a^-1 * (C - b)) % 26\n",
        "\t'''\n",
        "\treturn ''.join([ chr((( modinv(key[0], 26)*(ord(c) - ord('A') - key[1]))\n",
        "\t\t\t\t\t% 26) + ord('A')) for c in cipher ])\n",
        "\n",
        "\n",
        "# Driver Code to test the above functions\n",
        "def main():\n",
        "\t# declaring text and key\n",
        "\ttext = 'Apa saja boleh'\n",
        "\tkey = [17, 20]\n",
        "\n",
        "\t# calling encryption function\n",
        "\taffine_encrypted_text = affine_encrypt(text, key)\n",
        "\n",
        "\tprint('Plain Text:',text,'\\nEncrypted Text: {}'.format( affine_encrypted_text ))\n",
        "\n",
        "\t# calling decryption function\n",
        "\tprint('Decrypted Text: {}'.format\n",
        "\t( affine_decrypt(affine_encrypted_text, key) ))\n",
        "\n",
        "\n",
        "if __name__ == '__main__':\n",
        "\tmain()"
      ]
    }
  ]
}