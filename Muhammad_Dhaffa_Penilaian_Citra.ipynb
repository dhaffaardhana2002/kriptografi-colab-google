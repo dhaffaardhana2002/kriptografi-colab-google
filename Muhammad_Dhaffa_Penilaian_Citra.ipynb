{
  "nbformat": 4,
  "nbformat_minor": 0,
  "metadata": {
    "colab": {
      "provenance": [],
      "authorship_tag": "ABX9TyPxjzRn1Bilu/Nyo+kOQQNq",
      "include_colab_link": true
    },
    "kernelspec": {
      "name": "python3",
      "display_name": "Python 3"
    },
    "language_info": {
      "name": "python"
    }
  },
  "cells": [
    {
      "cell_type": "markdown",
      "metadata": {
        "id": "view-in-github",
        "colab_type": "text"
      },
      "source": [
        "<a href=\"https://colab.research.google.com/github/dhaffaardhana2002/kriptografi-colab-google/blob/master/Muhammad_Dhaffa_Penilaian_Citra.ipynb\" target=\"_parent\"><img src=\"https://colab.research.google.com/assets/colab-badge.svg\" alt=\"Open In Colab\"/></a>"
      ]
    },
    {
      "cell_type": "code",
      "execution_count": null,
      "metadata": {
        "id": "kiujvumks64b"
      },
      "outputs": [],
      "source": [
        "from google.colab import files\n",
        "import cv2\n",
        "import numpy as np\n",
        "from sklearn.metrics import mean_squared_error\n",
        "\n",
        "uploaded = files.upload()\n",
        "file_name = next(iter(uploaded))\n",
        "actual_image = cv2.imread(file_name, cv2.IMREAD_GRAYSCALE)\n",
        "predicted_image = actual_image + np.random.normal(0, 10, actual_image.shape).astype(np.uint8)\n",
        "actual_values = actual_image.flatten()\n",
        "predicted_values = predicted_image.flatten()\n",
        "mse = mean_squared_error(actual_values, predicted_values)\n",
        "print(f\"Mean Squared Error: {mse}\")"
      ]
    }
  ]
}