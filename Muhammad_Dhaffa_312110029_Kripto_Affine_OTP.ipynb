{
  "nbformat": 4,
  "nbformat_minor": 0,
  "metadata": {
    "colab": {
      "provenance": [],
      "authorship_tag": "ABX9TyMjBGZIAL4DsXLLuWjRHbMM",
      "include_colab_link": true
    },
    "kernelspec": {
      "name": "python3",
      "display_name": "Python 3"
    },
    "language_info": {
      "name": "python"
    }
  },
  "cells": [
    {
      "cell_type": "markdown",
      "metadata": {
        "id": "view-in-github",
        "colab_type": "text"
      },
      "source": [
        "<a href=\"https://colab.research.google.com/github/dhaffaardhana2002/kriptografi-colab-google/blob/master/Muhammad_Dhaffa_312110029_Kripto_Affine_OTP.ipynb\" target=\"_parent\"><img src=\"https://colab.research.google.com/assets/colab-badge.svg\" alt=\"Open In Colab\"/></a>"
      ]
    },
    {
      "cell_type": "code",
      "execution_count": 9,
      "metadata": {
        "colab": {
          "base_uri": "https://localhost:8080/"
        },
        "id": "wIrRoQ1MCYso",
        "outputId": "24cebfc7-f55e-4ea0-9318-ae2b417ebf81"
      },
      "outputs": [
        {
          "output_type": "stream",
          "name": "stdout",
          "text": [
            "Original message: Kerupuk Udang\n",
            "Encrypted message: Zjwrirz Rchux\n",
            "Decrypted message: Kerupuk Udang\n"
          ]
        }
      ],
      "source": [
        "import random\n",
        "\n",
        "def generate_key():\n",
        "    a = random.randint(1, 25)\n",
        "    b = random.randint(1, 25)\n",
        "    return a, b\n",
        "\n",
        "def encrypt(message, key):\n",
        "    a, b = key\n",
        "    encrypted_text = \"\"\n",
        "\n",
        "    for char in message:\n",
        "        if char.isalpha():\n",
        "            if char.isupper():\n",
        "                encrypted_text += chr((a * (ord(char) - 65) + b) % 26 + 65)\n",
        "            else:\n",
        "                encrypted_text += chr((a * (ord(char) - 97) + b) % 26 + 97)\n",
        "        else:\n",
        "            encrypted_text += char\n",
        "\n",
        "    return encrypted_text\n",
        "\n",
        "def decrypt(ciphertext, key):\n",
        "    a, b = key\n",
        "    decrypted_text = \"\"\n",
        "\n",
        "    for char in ciphertext:\n",
        "        if char.isalpha():\n",
        "            if char.isupper():\n",
        "                decrypted_text += chr(((ord(char) - b - 65) * modinv(a, 26)) % 26 + 65)\n",
        "            else:\n",
        "                decrypted_text += chr(((ord(char) - b - 97) * modinv(a, 26)) % 26 + 97)\n",
        "        else:\n",
        "            decrypted_text += char\n",
        "\n",
        "    return decrypted_text\n",
        "\n",
        "def modinv(a, m):\n",
        "    m0, x0, x1 = m, 0, 1\n",
        "    while a > 1 and m != 0:\n",
        "        q = a // m\n",
        "        m, a = a % m, m\n",
        "        x0, x1 = x1 - q * x0, x0\n",
        "    return x1 + m0 if x1 < 0 else x1\n",
        "\n",
        "message = \"Kerupuk Udang\"\n",
        "key = generate_key()\n",
        "\n",
        "print(\"Original message:\", message)\n",
        "\n",
        "encrypted_message = encrypt(message, key)\n",
        "print(\"Encrypted message:\", encrypted_message)\n",
        "\n",
        "decrypted_message = decrypt(encrypted_message, key)\n",
        "print(\"Decrypted message:\", decrypted_message)\n"
      ]
    }
  ]
}