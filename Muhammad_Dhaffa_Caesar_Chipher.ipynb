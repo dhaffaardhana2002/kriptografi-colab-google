{
  "nbformat": 4,
  "nbformat_minor": 0,
  "metadata": {
    "colab": {
      "provenance": [],
      "authorship_tag": "ABX9TyPHodj0QZ6urFv18eBWtcH1",
      "include_colab_link": true
    },
    "kernelspec": {
      "name": "python3",
      "display_name": "Python 3"
    },
    "language_info": {
      "name": "python"
    }
  },
  "cells": [
    {
      "cell_type": "markdown",
      "metadata": {
        "id": "view-in-github",
        "colab_type": "text"
      },
      "source": [
        "<a href=\"https://colab.research.google.com/github/dhaffaardhana2002/kriptografi-colab-google/blob/master/Muhammad_Dhaffa_Caesar_Chipher.ipynb\" target=\"_parent\"><img src=\"https://colab.research.google.com/assets/colab-badge.svg\" alt=\"Open In Colab\"/></a>"
      ]
    },
    {
      "cell_type": "code",
      "execution_count": null,
      "metadata": {
        "colab": {
          "base_uri": "https://localhost:8080/"
        },
        "id": "M5ap1K-F_CNr",
        "outputId": "b43486b7-6229-44b9-80b5-682951a81829"
      },
      "outputs": [
        {
          "output_type": "stream",
          "name": "stdout",
          "text": [
            "Masukkan text anda = ahoy asljdfsa lasdfjalsjeqwr lweqrj qwlr wjk\n",
            "Berapa banyak penggeseran = 4\n",
            "Berapa banyak huruf yang dikelompokkan = 3\n",
            "\n",
            "Tulisan asli = ahoy asljdfsa lasdfjalsjeqwr lweqrj qwlr wjk\n",
            "Banyaknya penggeseran = 4\n",
            "Hasil Chipher = els cew pnh jwe pew hjn epw niu avp aiu vnu apv ano \n"
          ]
        }
      ],
      "source": [
        "def caesar_chipher(tulisan,penggeseran,kelompokHuruf):\n",
        "\thuruf_ke = 0\n",
        "\thasil = \"\"\n",
        "\n",
        "\tfor i in range(len(tulisan)):\n",
        "\t\tkarakter = tulisan[i]\n",
        "\n",
        "\t\tif (karakter == \" \"):\n",
        "\t\t\t# hasil += \" \"\n",
        "\t\t\tcontinue\n",
        "\t\telif (karakter.isupper()):\n",
        "\t\t\thasil += chr( ( ord(karakter) + penggeseran - 65 ) % 26 + 65 )\n",
        "\t\telse:\n",
        "\t\t\thasil += chr( ( ord(karakter) + penggeseran - 97 ) % 26 + 97 )\n",
        "\n",
        "\t\thuruf_ke += 1\n",
        "\t\tif (huruf_ke == kelompokHuruf):\n",
        "\t\t\thasil += \" \"\n",
        "\t\t\thuruf_ke = 0\n",
        "\n",
        "\treturn hasil\n",
        "\n",
        "contoh = input(\"Masukkan text anda = \")\n",
        "penggeseran = int(input(\"Berapa banyak penggeseran = \"))\n",
        "kelompok_huruf = int(input(\"Berapa banyak huruf yang dikelompokkan = \"))\n",
        "\n",
        "print(\"\\nTulisan asli = \" + contoh)\n",
        "print(\"Banyaknya penggeseran = \" + str(penggeseran))\n",
        "print(\"Hasil Chipher = \" + caesar_chipher(contoh,penggeseran,kelompok_huruf))"
      ]
    }
  ]
}